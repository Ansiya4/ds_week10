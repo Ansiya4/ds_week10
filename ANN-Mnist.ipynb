{
 "cells": [
  {
   "cell_type": "code",
   "execution_count": 1,
   "id": "3bc1de03-1f9f-4cdb-8138-5cb22dfd5a4a",
   "metadata": {},
   "outputs": [
    {
     "name": "stdout",
     "output_type": "stream",
     "text": [
      "WARNING:tensorflow:From C:\\Users\\hp\\AppData\\Local\\Programs\\Python\\Python310\\lib\\site-packages\\keras\\src\\losses.py:2976: The name tf.losses.sparse_softmax_cross_entropy is deprecated. Please use tf.compat.v1.losses.sparse_softmax_cross_entropy instead.\n",
      "\n"
     ]
    }
   ],
   "source": [
    "import tensorflow"
   ]
  },
  {
   "cell_type": "code",
   "execution_count": 2,
   "id": "59525400-9c3c-4d78-9826-26c0033e9005",
   "metadata": {},
   "outputs": [],
   "source": [
    "from tensorflow import keras"
   ]
  },
  {
   "cell_type": "code",
   "execution_count": 3,
   "id": "a1dded4e-4579-4a6a-b518-32b56729f3b5",
   "metadata": {},
   "outputs": [],
   "source": [
    "from tensorflow.keras import Sequential\n",
    "from tensorflow.keras.layers import Dense,Flatten"
   ]
  },
  {
   "cell_type": "code",
   "execution_count": 4,
   "id": "10295c23-0bda-43e3-85d8-9f29037e664a",
   "metadata": {},
   "outputs": [],
   "source": [
    "(x_train,y_train),(x_test,y_test)=keras.datasets.mnist.load_data()"
   ]
  },
  {
   "cell_type": "code",
   "execution_count": 5,
   "id": "3b99d7ec-4f13-48d2-b271-3a20f287f4e3",
   "metadata": {},
   "outputs": [
    {
     "data": {
      "text/plain": [
       "(60000, 28, 28)"
      ]
     },
     "execution_count": 5,
     "metadata": {},
     "output_type": "execute_result"
    }
   ],
   "source": [
    "x_train.shape"
   ]
  },
  {
   "cell_type": "code",
   "execution_count": 6,
   "id": "2f097a6b-a0b3-49c3-b346-b84d1f7ab6dd",
   "metadata": {},
   "outputs": [
    {
     "data": {
      "text/plain": [
       "(60000,)"
      ]
     },
     "execution_count": 6,
     "metadata": {},
     "output_type": "execute_result"
    }
   ],
   "source": [
    "y_train.shape"
   ]
  },
  {
   "cell_type": "code",
   "execution_count": 7,
   "id": "d0ed6507-df87-4b91-8824-7094f2a0f3eb",
   "metadata": {},
   "outputs": [
    {
     "data": {
      "text/plain": [
       "<matplotlib.image.AxesImage at 0x1f1176e4760>"
      ]
     },
     "execution_count": 7,
     "metadata": {},
     "output_type": "execute_result"
    },
    {
     "data": {
      "image/png": "[encoded data removed]",
      "text/plain": [
       "<Figure size 640x480 with 1 Axes>"
      ]
     },
     "metadata": {},
     "output_type": "display_data"
    }
   ],
   "source": [
    "import matplotlib.pyplot as plt\n",
    "plt.imshow(x_train[0])"
   ]
  },
  {
   "cell_type": "code",
   "execution_count": 12,
   "id": "1ce82603-a64f-4d59-a39d-61a45e11ff50",
   "metadata": {},
   "outputs": [],
   "source": [
    "x_train=x_train/255\n",
    "x_test=x_test/255"
   ]
  },
  {
   "cell_type": "code",
   "execution_count": 9,
   "id": "08082acb-f132-41a9-802a-030055ef8c2a",
   "metadata": {},
   "outputs": [
    {
     "name": "stdout",
     "output_type": "stream",
     "text": [
      "WARNING:tensorflow:From C:\\Users\\hp\\AppData\\Local\\Programs\\Python\\Python310\\lib\\site-packages\\keras\\src\\backend.py:873: The name tf.get_default_graph is deprecated. Please use tf.compat.v1.get_default_graph instead.\n",
      "\n"
     ]
    }
   ],
   "source": [
    "model=Sequential()"
   ]
  },
  {
   "cell_type": "code",
   "execution_count": 29,
   "id": "78e97162-3af6-40a0-8829-a0b1aa120297",
   "metadata": {},
   "outputs": [],
   "source": [
    "model.add(Flatten(input_shape=(28,28)))\n",
    "model.add(Dense(128,activation='relu'))\n",
    "model.add(Dense(32,activation='relu'))\n",
    "model.add(Dense(10,activation='softmax'))"
   ]
  },
  {
   "cell_type": "code",
   "execution_count": 30,
   "id": "c1302acb-630f-4cba-b222-352d124b4d33",
   "metadata": {},
   "outputs": [
    {
     "name": "stdout",
     "output_type": "stream",
     "text": [
      "Model: \"sequential\"\n",
      "_________________________________________________________________\n",
      " Layer (type)                Output Shape              Param #   \n",
      "=================================================================\n",
      " flatten (Flatten)           (None, 784)               0         \n",
      "                                                                 \n",
      " dense (Dense)               (None, 128)               100480    \n",
      "                                                                 \n",
      " dense_1 (Dense)             (None, 10)                1290      \n",
      "                                                                 \n",
      " flatten_1 (Flatten)         (None, 10)                0         \n",
      "                                                                 \n",
      " dense_2 (Dense)             (None, 128)               1408      \n",
      "                                                                 \n",
      " dense_3 (Dense)             (None, 32)                4128      \n",
      "                                                                 \n",
      " dense_4 (Dense)             (None, 10)                330       \n",
      "                                                                 \n",
      " flatten_2 (Flatten)         (None, 10)                0         \n",
      "                                                                 \n",
      " dense_5 (Dense)             (None, 128)               1408      \n",
      "                                                                 \n",
      " dense_6 (Dense)             (None, 32)                4128      \n",
      "                                                                 \n",
      " dense_7 (Dense)             (None, 10)                330       \n",
      "                                                                 \n",
      "=================================================================\n",
      "Total params: 113502 (443.37 KB)\n",
      "Trainable params: 113502 (443.37 KB)\n",
      "Non-trainable params: 0 (0.00 Byte)\n",
      "_________________________________________________________________\n"
     ]
    }
   ],
   "source": [
    "model.summary()"
   ]
  },
  {
   "cell_type": "code",
   "execution_count": 31,
   "id": "d9b29699-b000-431b-adab-ed2666f634a7",
   "metadata": {},
   "outputs": [],
   "source": [
    "model.compile(loss='sparse_categorical_crossentropy',optimizer='Adam',metrics=['accuracy'])"
   ]
  },
  {
   "cell_type": "code",
   "execution_count": 32,
   "id": "0bd60a9e-bcb2-4212-b5aa-27c5c70874fa",
   "metadata": {},
   "outputs": [
    {
     "name": "stdout",
     "output_type": "stream",
     "text": [
      "Epoch 1/25\n",
      "1500/1500 [==============================] - 15s 8ms/step - loss: 0.2367 - accuracy: 0.9381 - val_loss: 0.2354 - val_accuracy: 0.9712\n",
      "Epoch 2/25\n",
      "1500/1500 [==============================] - 11s 8ms/step - loss: 0.0386 - accuracy: 0.9948 - val_loss: 0.1985 - val_accuracy: 0.9723\n",
      "Epoch 3/25\n",
      "1500/1500 [==============================] - 11s 8ms/step - loss: 0.0301 - accuracy: 0.9958 - val_loss: 0.1875 - val_accuracy: 0.9733\n",
      "Epoch 4/25\n",
      "1500/1500 [==============================] - 11s 8ms/step - loss: 0.0326 - accuracy: 0.9951 - val_loss: 0.2063 - val_accuracy: 0.9737\n",
      "Epoch 5/25\n",
      "1500/1500 [==============================] - 12s 8ms/step - loss: 0.0314 - accuracy: 0.9955 - val_loss: 0.1659 - val_accuracy: 0.9764\n",
      "Epoch 6/25\n",
      "1500/1500 [==============================] - 11s 8ms/step - loss: 0.0249 - accuracy: 0.9961 - val_loss: 0.1875 - val_accuracy: 0.9732\n",
      "Epoch 7/25\n",
      "1500/1500 [==============================] - 12s 8ms/step - loss: 0.0194 - accuracy: 0.9972 - val_loss: 0.1848 - val_accuracy: 0.9754\n",
      "Epoch 8/25\n",
      "1500/1500 [==============================] - 12s 8ms/step - loss: 0.0183 - accuracy: 0.9970 - val_loss: 0.2343 - val_accuracy: 0.9703\n",
      "Epoch 9/25\n",
      "1500/1500 [==============================] - 13s 8ms/step - loss: 0.0185 - accuracy: 0.9970 - val_loss: 0.1860 - val_accuracy: 0.9743\n",
      "Epoch 10/25\n",
      "1500/1500 [==============================] - 12s 8ms/step - loss: 0.0223 - accuracy: 0.9962 - val_loss: 0.1961 - val_accuracy: 0.9726\n",
      "Epoch 11/25\n",
      "1500/1500 [==============================] - 12s 8ms/step - loss: 0.0149 - accuracy: 0.9973 - val_loss: 0.1750 - val_accuracy: 0.9787\n",
      "Epoch 12/25\n",
      "1500/1500 [==============================] - 12s 8ms/step - loss: 0.0143 - accuracy: 0.9975 - val_loss: 0.1921 - val_accuracy: 0.9749\n",
      "Epoch 13/25\n",
      "1500/1500 [==============================] - 12s 8ms/step - loss: 0.0116 - accuracy: 0.9980 - val_loss: 0.1759 - val_accuracy: 0.9764\n",
      "Epoch 14/25\n",
      "1500/1500 [==============================] - 12s 8ms/step - loss: 0.0133 - accuracy: 0.9978 - val_loss: 0.1732 - val_accuracy: 0.9762\n",
      "Epoch 15/25\n",
      "1500/1500 [==============================] - 12s 8ms/step - loss: 0.0167 - accuracy: 0.9971 - val_loss: 0.1553 - val_accuracy: 0.9759\n",
      "Epoch 16/25\n",
      "1500/1500 [==============================] - 11s 8ms/step - loss: 0.0094 - accuracy: 0.9985 - val_loss: 0.1876 - val_accuracy: 0.9753\n",
      "Epoch 17/25\n",
      "1500/1500 [==============================] - 11s 8ms/step - loss: 0.0167 - accuracy: 0.9973 - val_loss: 0.1577 - val_accuracy: 0.9758\n",
      "Epoch 18/25\n",
      "1500/1500 [==============================] - 11s 8ms/step - loss: 0.0105 - accuracy: 0.9981 - val_loss: 0.1670 - val_accuracy: 0.9785\n",
      "Epoch 19/25\n",
      "1500/1500 [==============================] - 12s 8ms/step - loss: 0.0122 - accuracy: 0.9978 - val_loss: 0.2019 - val_accuracy: 0.9769\n",
      "Epoch 20/25\n",
      "1500/1500 [==============================] - 11s 8ms/step - loss: 0.0125 - accuracy: 0.9980 - val_loss: 0.1764 - val_accuracy: 0.9751\n",
      "Epoch 21/25\n",
      "1500/1500 [==============================] - 12s 8ms/step - loss: 0.0145 - accuracy: 0.9975 - val_loss: 0.1688 - val_accuracy: 0.9766\n",
      "Epoch 22/25\n",
      "1500/1500 [==============================] - 11s 8ms/step - loss: 0.0133 - accuracy: 0.9978 - val_loss: 0.1677 - val_accuracy: 0.9767\n",
      "Epoch 23/25\n",
      "1500/1500 [==============================] - 11s 8ms/step - loss: 0.0113 - accuracy: 0.9979 - val_loss: 0.1815 - val_accuracy: 0.9755\n",
      "Epoch 24/25\n",
      "1500/1500 [==============================] - 12s 8ms/step - loss: 0.0116 - accuracy: 0.9979 - val_loss: 0.1899 - val_accuracy: 0.9747\n",
      "Epoch 25/25\n",
      "1500/1500 [==============================] - 12s 8ms/step - loss: 0.0098 - accuracy: 0.9984 - val_loss: 0.1831 - val_accuracy: 0.9743\n"
     ]
    }
   ],
   "source": [
    "history=model.fit(x_train,y_train,epochs=25,validation_split=.2)"
   ]
  },
  {
   "cell_type": "code",
   "execution_count": 33,
   "id": "e325c094-7a30-4aa2-bc2b-aaaec0316032",
   "metadata": {},
   "outputs": [
    {
     "name": "stdout",
     "output_type": "stream",
     "text": [
      "313/313 [==============================] - 2s 4ms/step\n"
     ]
    }
   ],
   "source": [
    "y_prob = model.predict(x_test)"
   ]
  },
  {
   "cell_type": "code",
   "execution_count": 34,
   "id": "a4b44a8b-ee60-421e-bb30-ffaf95fe2cd0",
   "metadata": {},
   "outputs": [],
   "source": [
    "y_pred=y_prob.argmax(axis=1)"
   ]
  },
  {
   "cell_type": "code",
   "execution_count": 24,
   "id": "4bc90ef1-48a0-4537-ab7c-911afefd4d66",
   "metadata": {},
   "outputs": [
    {
     "data": {
      "text/plain": [
       "0.9795"
      ]
     },
     "execution_count": 24,
     "metadata": {},
     "output_type": "execute_result"
    }
   ],
   "source": [
    "from sklearn.metrics import accuracy_score\n",
    "accuracy_score(y_pred,y_test)"
   ]
  },
  {
   "cell_type": "code",
   "execution_count": 25,
   "id": "68f92fdb-071d-48f0-98c7-ead3bb394645",
   "metadata": {},
   "outputs": [],
   "source": [
    "import matplotlib.pyplot as plt"
   ]
  },
  {
   "cell_type": "code",
   "execution_count": 27,
   "id": "3a753e04-16e1-4c11-8953-1de349ebf94a",
   "metadata": {},
   "outputs": [
    {
     "data": {
      "text/plain": [
       "[<matplotlib.lines.Line2D at 0x1d73793b7c0>]"
      ]
     },
     "execution_count": 27,
     "metadata": {},
     "output_type": "execute_result"
    },
    {
     "data": {
      "image/png": "[encoded data removed]",
      "text/plain": [
       "<Figure size 640x480 with 1 Axes>"
      ]
     },
     "metadata": {},
     "output_type": "display_data"
    }
   ],
   "source": [
    "plt.plot(history.history['loss'])"
   ]
  },
  {
   "cell_type": "code",
   "execution_count": null,
   "id": "f6bed2d7-0c31-4e1c-a90b-405adb276fde",
   "metadata": {},
   "outputs": [],
   "source": []
  }
 ],
 "metadata": {
  "kernelspec": {
   "display_name": "Python 3 (ipykernel)",
   "language": "python",
   "name": "python3"
  },
  "language_info": {
   "codemirror_mode": {
    "name": "ipython",
    "version": 3
   },
   "file_extension": ".py",
   "mimetype": "text/x-python",
   "name": "python",
   "nbconvert_exporter": "python",
   "pygments_lexer": "ipython3",
   "version": "3.10.10"
  }
 },
 "nbformat": 4,
 "nbformat_minor": 5
}
